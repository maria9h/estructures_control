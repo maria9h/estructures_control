{
  "metadata": {
    "language_info": {
      "codemirror_mode": {
        "name": "python",
        "version": 3
      },
      "file_extension": ".py",
      "mimetype": "text/x-python",
      "name": "python",
      "nbconvert_exporter": "python",
      "pygments_lexer": "ipython3",
      "version": "3.8"
    },
    "kernelspec": {
      "name": "python",
      "display_name": "Python (Pyodide)",
      "language": "python"
    }
  },
  "nbformat_minor": 4,
  "nbformat": 4,
  "cells": [
    {
      "cell_type": "markdown",
      "source": "# ESTRUCTURES CONTROL\n\n### Exercici 1\nL'exercici consisteix a crear un programa que et classifiqui una variable numèrica en funció de l’escala Suspès/Aprovat/Notable/Excel·lent.\n\nRecorda que Suspès < 5, Aprovat > 5 i < 7, Notable > 7 i < 9 i Excel·lent > 9.",
      "metadata": {}
    },
    {
      "cell_type": "code",
      "source": "def classificacio(n):\n    if n < 5:\n        return \"Suspès\"\n    elif n >= 5 and n < 7:\n        return \"Aprovat\"\n    elif n >= 7 and n < 9:\n        return \"Notable\"\n    elif n >= 9:\n        return \"Excel·lent\"\n\nclassificacio(11)",
      "metadata": {
        "trusted": true
      },
      "execution_count": null,
      "outputs": []
    },
    {
      "cell_type": "markdown",
      "source": "### Exercici 2\n\nUtilitzant el següent tutorial crea un programa que et pregunti dos números. T’ha de mostrar un missatge dient si el primer és més gran, el segon és més gran o són iguals.",
      "metadata": {}
    },
    {
      "cell_type": "code",
      "source": "num1 = int(input('Escull un número:'))\nnum2 = int(input('Escull un segon número:'))\n\ndef comparar(n1,n2):\n    if n1 > n2:\n        print('El primer és més gran')\n    if n1 < n2:\n        print('El segon és més gran')\n    if n1 == n2:\n        print('El números són iguals')\n\ncomparar(num1,num2)",
      "metadata": {
        "trusted": true
      },
      "execution_count": null,
      "outputs": []
    },
    {
      "cell_type": "markdown",
      "source": "### Exercici 3\nCrea un programa que et pregunti el teu nom, i et demani un número. Si el número és 0, hauria de mostrar un missatge d’error. En cas contrari, hauria de mostrar el nom repetit tants cops com indiqui el número. Per exemple, “Joan Joan Joan”.",
      "metadata": {}
    },
    {
      "cell_type": "code",
      "source": "nom = await input('Escriu el teu nom:')\nnum = int(await input('Escriu un número:')\n\ndef missatge(nom, num):\n          return (nom * num)\n          \nresultat = missatge (nom, num)\nprint(resultat)",
      "metadata": {
        "trusted": true
      },
      "execution_count": null,
      "outputs": []
    },
    {
      "cell_type": "markdown",
      "source": "### Exercici 4\n\nCrea un programa que donada una llista qualsevol, et digui si és simètrica o no. Si ho és, que et digui quants elements té.",
      "metadata": {}
    },
    {
      "cell_type": "code",
      "source": "list = [1,3,3,2,1]\n\ndef simetria (list):\n    l = len(list)-1\n    i = 0\n    while list[i] == list[l-i]:\n        i += 1\n        if i == (l-i):\n            break\n        print ('La llista és simètrica')\n    else:\n        print ('La llista donada no és simètrica')    \n\nsimetria(list)",
      "metadata": {
        "trusted": true
      },
      "execution_count": null,
      "outputs": []
    },
    {
      "cell_type": "markdown",
      "source": "### Exercici 5\n\nCrea un programa que donada una llista, et digui quants números coincideixen amb la seva posició. Per exemple [3,4,2,0,2,3,6] el 2 i el 6 coincideixen.",
      "metadata": {}
    },
    {
      "cell_type": "code",
      "source": "llista_num = [3,4,2,0,2,3,6]\n\ndef coincidencies(llista_num):\n    coinci = []\n    for i,element in enumerate(llista_num):\n        if i == element:\n            coinci.append(i)\n    print('Coincideixen amb la seva posició', len(coinci), 'números. Els elements', coinci, '.')\n\ncoincidencies(llista_num)\n\n",
      "metadata": {
        "trusted": true
      },
      "execution_count": null,
      "outputs": []
    }
  ]
}